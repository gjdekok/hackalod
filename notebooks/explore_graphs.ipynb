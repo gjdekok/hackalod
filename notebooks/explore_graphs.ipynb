{
 "cells": [
  {
   "cell_type": "code",
   "execution_count": 1,
   "metadata": {},
   "outputs": [],
   "source": [
    "import gzip\n",
    "from rdflib import Dataset "
   ]
  },
  {
   "cell_type": "code",
   "execution_count": 3,
   "metadata": {},
   "outputs": [
    {
     "name": "stdout",
     "output_type": "stream",
     "text": [
      "Aantal triples: 2078149\n"
     ]
    }
   ],
   "source": [
    "g = Dataset ()\n",
    "\n",
    "file_path = \"../data/graphs/https___druid.datalegend.net_RJM_Paramaribo-Ward-Registers-1828-1847_graphs_default.trig.gz\"\n",
    "\n",
    "with gzip.open(file_path, 'rt') as f:\n",
    "    g.parse(f, format='trig')\n",
    "\n",
    "print(f\"Aantal triples: {len(g)}\")"
   ]
  }
 ],
 "metadata": {
  "kernelspec": {
   "display_name": "hackalod",
   "language": "python",
   "name": "python3"
  },
  "language_info": {
   "codemirror_mode": {
    "name": "ipython",
    "version": 3
   },
   "file_extension": ".py",
   "mimetype": "text/x-python",
   "name": "python",
   "nbconvert_exporter": "python",
   "pygments_lexer": "ipython3",
   "version": "3.12.2"
  }
 },
 "nbformat": 4,
 "nbformat_minor": 2
}
